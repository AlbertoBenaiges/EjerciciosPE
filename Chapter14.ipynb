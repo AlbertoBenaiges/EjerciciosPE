{
 "cells": [
  {
   "cell_type": "code",
   "execution_count": 4,
   "metadata": {},
   "outputs": [],
   "source": [
    "import unittest\n",
    "import datetime\n",
    "import genetic\n",
    "import random"
   ]
  },
  {
   "cell_type": "code",
   "execution_count": 21,
   "metadata": {},
   "outputs": [],
   "source": [
    "def evaluate(genes):\n",
    "    result = genes[0]\n",
    "    for i in range(1, len(genes), 2):\n",
    "        operation = genes[i]\n",
    "        nextValue = genes[i + 1]\n",
    "        if operation == '+':\n",
    "            result += nextValue\n",
    "        elif operation == '-':\n",
    "            result -= nextValue\n",
    "    return result\n"
   ]
  }
 ],
 "metadata": {
  "kernelspec": {
   "display_name": "Python 3",
   "language": "python",
   "name": "python3"
  },
  "language_info": {
   "codemirror_mode": {
    "name": "ipython",
    "version": 3
   },
   "file_extension": ".py",
   "mimetype": "text/x-python",
   "name": "python",
   "nbconvert_exporter": "python",
   "pygments_lexer": "ipython3",
   "version": "3.8.10"
  }
 },
 "nbformat": 4,
 "nbformat_minor": 2
}
